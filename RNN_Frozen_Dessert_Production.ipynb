{
 "cells": [
  {
   "cell_type": "markdown",
   "metadata": {
    "id": "A519cFgcM-JA"
   },
   "source": [
    "**IMPORT THE BASIC LIBRARIES YOU THINK YOU WILL USE**"
   ]
  },
  {
   "cell_type": "code",
   "execution_count": 102,
   "metadata": {
    "id": "6ht40dBFM-JF"
   },
   "outputs": [],
   "source": [
    "import numpy as np\n",
    "import matplotlib.pyplot as plt\n",
    "%matplotlib inline\n",
    "import pandas as pd\n",
    "\n",
    "from sklearn.preprocessing import MinMaxScaler\n",
    "from tensorflow.keras.preprocessing.sequence import TimeseriesGenerator\n",
    "from tensorflow.keras.models import Sequential, load_model\n",
    "from tensorflow.keras.layers import Dense, LSTM\n",
    "from tensorflow.keras.callbacks import EarlyStopping\n",
    "from sklearn.metrics import mean_squared_error"
   ]
  },
  {
   "cell_type": "markdown",
   "metadata": {
    "id": "wTH4H2dkM-JG"
   },
   "source": [
    "## Data\n",
    "\n",
    "Info about this data set: https://fred.stlouisfed.org/series/IPN31152N\n",
    "\n",
    "\n",
    "Units:  Index 2012=100, Not Seasonally Adjusted\n",
    "\n",
    "Frequency:  Monthly\n",
    "\n",
    "The industrial production (IP) index measures the real output of all relevant establishments located in the United States, regardless of their ownership, but not those located in U.S. territories.\n",
    "\n",
    "NAICS = 31152\n",
    "\n",
    "Source Code: IP.N31152.N\n",
    "\n",
    "Suggested Citation:\n",
    "Board of Governors of the Federal Reserve System (US), Industrial Production: Nondurable Goods: Ice cream and frozen dessert [IPN31152N], retrieved from FRED, Federal Reserve Bank of St. Louis; https://fred.stlouisfed.org/series/IPN31152N, November 16, 2019.\n",
    "\n",
    "# Project Tasks\n",
    "\n",
    "**Read in the data set \"Frozen_Dessert_Production.csv\" from the Data folder. Figure out how to set the date to a datetime index columns**"
   ]
  },
  {
   "cell_type": "code",
   "execution_count": 64,
   "metadata": {
    "colab": {
     "base_uri": "https://localhost:8080/"
    },
    "id": "bgul81qKNC-H",
    "outputId": "3de291d0-449d-431c-ef97-339fac17fe97"
   },
   "outputs": [
    {
     "name": "stdout",
     "output_type": "stream",
     "text": [
      "Drive already mounted at /content/drive; to attempt to forcibly remount, call drive.mount(\"/content/drive\", force_remount=True).\n"
     ]
    }
   ],
   "source": [
    "from google.colab import drive\n",
    "drive.mount('/content/drive')"
   ]
  },
  {
   "cell_type": "code",
   "execution_count": 65,
   "metadata": {
    "id": "_coXsaM7M-JH"
   },
   "outputs": [],
   "source": [
    "path = \"/content/drive/MyDrive/9.RNN_Tasks/Data/Frozen_Dessert_Production.csv\""
   ]
  },
  {
   "cell_type": "code",
   "execution_count": 66,
   "metadata": {
    "id": "VKp7N9IgM-JI"
   },
   "outputs": [],
   "source": [
    "df = pd.read_csv(path, parse_dates = [\"DATE\"])"
   ]
  },
  {
   "cell_type": "code",
   "execution_count": 67,
   "metadata": {
    "colab": {
     "base_uri": "https://localhost:8080/",
     "height": 204
    },
    "id": "N-OPOvIlM-JI",
    "outputId": "83fa2375-9600-4d77-88b1-2da7f9d68817"
   },
   "outputs": [
    {
     "data": {
      "text/html": [
       "<div>\n",
       "<style scoped>\n",
       "    .dataframe tbody tr th:only-of-type {\n",
       "        vertical-align: middle;\n",
       "    }\n",
       "\n",
       "    .dataframe tbody tr th {\n",
       "        vertical-align: top;\n",
       "    }\n",
       "\n",
       "    .dataframe thead th {\n",
       "        text-align: right;\n",
       "    }\n",
       "</style>\n",
       "<table border=\"1\" class=\"dataframe\">\n",
       "  <thead>\n",
       "    <tr style=\"text-align: right;\">\n",
       "      <th></th>\n",
       "      <th>DATE</th>\n",
       "      <th>IPN31152N</th>\n",
       "    </tr>\n",
       "  </thead>\n",
       "  <tbody>\n",
       "    <tr>\n",
       "      <th>0</th>\n",
       "      <td>1972-01-01</td>\n",
       "      <td>59.9622</td>\n",
       "    </tr>\n",
       "    <tr>\n",
       "      <th>1</th>\n",
       "      <td>1972-02-01</td>\n",
       "      <td>67.0605</td>\n",
       "    </tr>\n",
       "    <tr>\n",
       "      <th>2</th>\n",
       "      <td>1972-03-01</td>\n",
       "      <td>74.2350</td>\n",
       "    </tr>\n",
       "    <tr>\n",
       "      <th>3</th>\n",
       "      <td>1972-04-01</td>\n",
       "      <td>78.1120</td>\n",
       "    </tr>\n",
       "    <tr>\n",
       "      <th>4</th>\n",
       "      <td>1972-05-01</td>\n",
       "      <td>84.7636</td>\n",
       "    </tr>\n",
       "  </tbody>\n",
       "</table>\n",
       "</div>"
      ],
      "text/plain": [
       "        DATE  IPN31152N\n",
       "0 1972-01-01    59.9622\n",
       "1 1972-02-01    67.0605\n",
       "2 1972-03-01    74.2350\n",
       "3 1972-04-01    78.1120\n",
       "4 1972-05-01    84.7636"
      ]
     },
     "execution_count": 67,
     "metadata": {
      "tags": []
     },
     "output_type": "execute_result"
    }
   ],
   "source": [
    "df.head(5)"
   ]
  },
  {
   "cell_type": "code",
   "execution_count": 68,
   "metadata": {
    "colab": {
     "base_uri": "https://localhost:8080/"
    },
    "id": "IBeVcXOzROba",
    "outputId": "a0eb6b54-cd3e-4105-8478-3fd871447fe6"
   },
   "outputs": [
    {
     "name": "stdout",
     "output_type": "stream",
     "text": [
      "<class 'pandas.core.frame.DataFrame'>\n",
      "RangeIndex: 573 entries, 0 to 572\n",
      "Data columns (total 2 columns):\n",
      " #   Column     Non-Null Count  Dtype         \n",
      "---  ------     --------------  -----         \n",
      " 0   DATE       573 non-null    datetime64[ns]\n",
      " 1   IPN31152N  573 non-null    float64       \n",
      "dtypes: datetime64[ns](1), float64(1)\n",
      "memory usage: 9.1 KB\n"
     ]
    }
   ],
   "source": [
    "df.info()"
   ]
  },
  {
   "cell_type": "markdown",
   "metadata": {
    "id": "lld3y5EiM-JL"
   },
   "source": [
    "**Change the column name to Production**"
   ]
  },
  {
   "cell_type": "code",
   "execution_count": 69,
   "metadata": {
    "colab": {
     "base_uri": "https://localhost:8080/"
    },
    "id": "CA9REoR7M-JM",
    "outputId": "6f5e3898-fbb2-4570-e39c-6cddbeca1b05"
   },
   "outputs": [
    {
     "data": {
      "text/plain": [
       "Index(['DATE', 'IPN31152N'], dtype='object')"
      ]
     },
     "execution_count": 69,
     "metadata": {
      "tags": []
     },
     "output_type": "execute_result"
    }
   ],
   "source": [
    "df.columns"
   ]
  },
  {
   "cell_type": "code",
   "execution_count": 70,
   "metadata": {
    "id": "3skV9Vm4QtMF"
   },
   "outputs": [],
   "source": [
    "df = df.set_index('DATE')"
   ]
  },
  {
   "cell_type": "code",
   "execution_count": 71,
   "metadata": {
    "id": "hnktX5cSM-JM"
   },
   "outputs": [],
   "source": [
    "df.columns = ['Production']"
   ]
  },
  {
   "cell_type": "code",
   "execution_count": 72,
   "metadata": {
    "colab": {
     "base_uri": "https://localhost:8080/",
     "height": 235
    },
    "id": "nVHIZk0HM-JN",
    "outputId": "70f580b6-b665-4792-f268-d2b721a9799d"
   },
   "outputs": [
    {
     "data": {
      "text/html": [
       "<div>\n",
       "<style scoped>\n",
       "    .dataframe tbody tr th:only-of-type {\n",
       "        vertical-align: middle;\n",
       "    }\n",
       "\n",
       "    .dataframe tbody tr th {\n",
       "        vertical-align: top;\n",
       "    }\n",
       "\n",
       "    .dataframe thead th {\n",
       "        text-align: right;\n",
       "    }\n",
       "</style>\n",
       "<table border=\"1\" class=\"dataframe\">\n",
       "  <thead>\n",
       "    <tr style=\"text-align: right;\">\n",
       "      <th></th>\n",
       "      <th>Production</th>\n",
       "    </tr>\n",
       "    <tr>\n",
       "      <th>DATE</th>\n",
       "      <th></th>\n",
       "    </tr>\n",
       "  </thead>\n",
       "  <tbody>\n",
       "    <tr>\n",
       "      <th>1972-01-01</th>\n",
       "      <td>59.9622</td>\n",
       "    </tr>\n",
       "    <tr>\n",
       "      <th>1972-02-01</th>\n",
       "      <td>67.0605</td>\n",
       "    </tr>\n",
       "    <tr>\n",
       "      <th>1972-03-01</th>\n",
       "      <td>74.2350</td>\n",
       "    </tr>\n",
       "    <tr>\n",
       "      <th>1972-04-01</th>\n",
       "      <td>78.1120</td>\n",
       "    </tr>\n",
       "    <tr>\n",
       "      <th>1972-05-01</th>\n",
       "      <td>84.7636</td>\n",
       "    </tr>\n",
       "  </tbody>\n",
       "</table>\n",
       "</div>"
      ],
      "text/plain": [
       "            Production\n",
       "DATE                  \n",
       "1972-01-01     59.9622\n",
       "1972-02-01     67.0605\n",
       "1972-03-01     74.2350\n",
       "1972-04-01     78.1120\n",
       "1972-05-01     84.7636"
      ]
     },
     "execution_count": 72,
     "metadata": {
      "tags": []
     },
     "output_type": "execute_result"
    }
   ],
   "source": [
    "df.head(5)"
   ]
  },
  {
   "cell_type": "markdown",
   "metadata": {
    "id": "HUm8jNVXM-JN"
   },
   "source": [
    "**Plot out the time series**"
   ]
  },
  {
   "cell_type": "code",
   "execution_count": 73,
   "metadata": {
    "colab": {
     "base_uri": "https://localhost:8080/",
     "height": 388
    },
    "id": "ZKTYEsznM-JO",
    "outputId": "f41c8339-f8ac-456e-d4f3-b14b71d6c3aa"
   },
   "outputs": [
    {
     "data": {
      "image/png": "[encoded data removed]",
      "text/plain": [
       "<Figure size 864x432 with 1 Axes>"
      ]
     },
     "metadata": {
      "needs_background": "light",
      "tags": []
     },
     "output_type": "display_data"
    }
   ],
   "source": [
    "df.plot(figsize = (12, 6))\n",
    "plt.show()"
   ]
  },
  {
   "cell_type": "markdown",
   "metadata": {
    "id": "ID4lLGrvM-JO"
   },
   "source": [
    "## Train Test Split"
   ]
  },
  {
   "cell_type": "markdown",
   "metadata": {
    "id": "h19NWmAVM-JP"
   },
   "source": [
    "**Figure out the length of the data set**"
   ]
  },
  {
   "cell_type": "code",
   "execution_count": 74,
   "metadata": {
    "colab": {
     "base_uri": "https://localhost:8080/"
    },
    "id": "vX-Bf3VXM-JP",
    "outputId": "30607139-2b22-4200-acf6-77c0855a1567"
   },
   "outputs": [
    {
     "data": {
      "text/plain": [
       "573"
      ]
     },
     "execution_count": 74,
     "metadata": {
      "tags": []
     },
     "output_type": "execute_result"
    }
   ],
   "source": [
    "len(df)"
   ]
  },
  {
   "cell_type": "markdown",
   "metadata": {
    "id": "WY8hr5PGM-JQ"
   },
   "source": [
    "**Split the data into a train/test split where the test set is the last 24 months of data.**"
   ]
  },
  {
   "cell_type": "code",
   "execution_count": 75,
   "metadata": {
    "id": "tye-cRFrM-JQ"
   },
   "outputs": [],
   "source": [
    "test_size = 24"
   ]
  },
  {
   "cell_type": "code",
   "execution_count": 76,
   "metadata": {
    "colab": {
     "base_uri": "https://localhost:8080/"
    },
    "id": "jsrU1CE-M-JQ",
    "outputId": "ba2b9432-01bc-4161-c715-fe5236b2671b"
   },
   "outputs": [
    {
     "data": {
      "text/plain": [
       "549"
      ]
     },
     "execution_count": 76,
     "metadata": {
      "tags": []
     },
     "output_type": "execute_result"
    }
   ],
   "source": [
    "test_index  = len(df)-test_size\n",
    "test_index"
   ]
  },
  {
   "cell_type": "code",
   "execution_count": 77,
   "metadata": {
    "id": "j1lEKXo6M-JR"
   },
   "outputs": [],
   "source": [
    "train = df.iloc[:test_index]\n",
    "test = df.iloc[test_index:]"
   ]
  },
  {
   "cell_type": "code",
   "execution_count": 78,
   "metadata": {
    "colab": {
     "base_uri": "https://localhost:8080/"
    },
    "id": "BT5zEDCFRwF4",
    "outputId": "2eeea8a6-d5c2-4085-d811-15a81836c7ba"
   },
   "outputs": [
    {
     "data": {
      "text/plain": [
       "549"
      ]
     },
     "execution_count": 78,
     "metadata": {
      "tags": []
     },
     "output_type": "execute_result"
    }
   ],
   "source": [
    "len(train)"
   ]
  },
  {
   "cell_type": "code",
   "execution_count": 79,
   "metadata": {
    "colab": {
     "base_uri": "https://localhost:8080/"
    },
    "id": "2ck1bwO9M-JR",
    "outputId": "5c307137-463b-4fd2-a3f1-d49b4eaf983f"
   },
   "outputs": [
    {
     "data": {
      "text/plain": [
       "24"
      ]
     },
     "execution_count": 79,
     "metadata": {
      "tags": []
     },
     "output_type": "execute_result"
    }
   ],
   "source": [
    "len(test)"
   ]
  },
  {
   "cell_type": "code",
   "execution_count": 80,
   "metadata": {
    "colab": {
     "base_uri": "https://localhost:8080/",
     "height": 235
    },
    "id": "UO2__59OR7SW",
    "outputId": "a6d9a260-a683-48f5-82d5-1e96cf2ba79e"
   },
   "outputs": [
    {
     "data": {
      "text/html": [
       "<div>\n",
       "<style scoped>\n",
       "    .dataframe tbody tr th:only-of-type {\n",
       "        vertical-align: middle;\n",
       "    }\n",
       "\n",
       "    .dataframe tbody tr th {\n",
       "        vertical-align: top;\n",
       "    }\n",
       "\n",
       "    .dataframe thead th {\n",
       "        text-align: right;\n",
       "    }\n",
       "</style>\n",
       "<table border=\"1\" class=\"dataframe\">\n",
       "  <thead>\n",
       "    <tr style=\"text-align: right;\">\n",
       "      <th></th>\n",
       "      <th>Production</th>\n",
       "    </tr>\n",
       "    <tr>\n",
       "      <th>DATE</th>\n",
       "      <th></th>\n",
       "    </tr>\n",
       "  </thead>\n",
       "  <tbody>\n",
       "    <tr>\n",
       "      <th>1972-01-01</th>\n",
       "      <td>59.9622</td>\n",
       "    </tr>\n",
       "    <tr>\n",
       "      <th>1972-02-01</th>\n",
       "      <td>67.0605</td>\n",
       "    </tr>\n",
       "    <tr>\n",
       "      <th>1972-03-01</th>\n",
       "      <td>74.2350</td>\n",
       "    </tr>\n",
       "    <tr>\n",
       "      <th>1972-04-01</th>\n",
       "      <td>78.1120</td>\n",
       "    </tr>\n",
       "    <tr>\n",
       "      <th>1972-05-01</th>\n",
       "      <td>84.7636</td>\n",
       "    </tr>\n",
       "  </tbody>\n",
       "</table>\n",
       "</div>"
      ],
      "text/plain": [
       "            Production\n",
       "DATE                  \n",
       "1972-01-01     59.9622\n",
       "1972-02-01     67.0605\n",
       "1972-03-01     74.2350\n",
       "1972-04-01     78.1120\n",
       "1972-05-01     84.7636"
      ]
     },
     "execution_count": 80,
     "metadata": {
      "tags": []
     },
     "output_type": "execute_result"
    }
   ],
   "source": [
    "train.head(5)"
   ]
  },
  {
   "cell_type": "code",
   "execution_count": 81,
   "metadata": {
    "colab": {
     "base_uri": "https://localhost:8080/",
     "height": 235
    },
    "id": "ET8VJI-VSSeL",
    "outputId": "b4174a78-ae85-4975-dae6-7d5ebe2a3d22"
   },
   "outputs": [
    {
     "data": {
      "text/html": [
       "<div>\n",
       "<style scoped>\n",
       "    .dataframe tbody tr th:only-of-type {\n",
       "        vertical-align: middle;\n",
       "    }\n",
       "\n",
       "    .dataframe tbody tr th {\n",
       "        vertical-align: top;\n",
       "    }\n",
       "\n",
       "    .dataframe thead th {\n",
       "        text-align: right;\n",
       "    }\n",
       "</style>\n",
       "<table border=\"1\" class=\"dataframe\">\n",
       "  <thead>\n",
       "    <tr style=\"text-align: right;\">\n",
       "      <th></th>\n",
       "      <th>Production</th>\n",
       "    </tr>\n",
       "    <tr>\n",
       "      <th>DATE</th>\n",
       "      <th></th>\n",
       "    </tr>\n",
       "  </thead>\n",
       "  <tbody>\n",
       "    <tr>\n",
       "      <th>2017-10-01</th>\n",
       "      <td>90.4732</td>\n",
       "    </tr>\n",
       "    <tr>\n",
       "      <th>2017-11-01</th>\n",
       "      <td>77.4378</td>\n",
       "    </tr>\n",
       "    <tr>\n",
       "      <th>2017-12-01</th>\n",
       "      <td>75.8118</td>\n",
       "    </tr>\n",
       "    <tr>\n",
       "      <th>2018-01-01</th>\n",
       "      <td>83.4343</td>\n",
       "    </tr>\n",
       "    <tr>\n",
       "      <th>2018-02-01</th>\n",
       "      <td>99.4899</td>\n",
       "    </tr>\n",
       "  </tbody>\n",
       "</table>\n",
       "</div>"
      ],
      "text/plain": [
       "            Production\n",
       "DATE                  \n",
       "2017-10-01     90.4732\n",
       "2017-11-01     77.4378\n",
       "2017-12-01     75.8118\n",
       "2018-01-01     83.4343\n",
       "2018-02-01     99.4899"
      ]
     },
     "execution_count": 81,
     "metadata": {
      "tags": []
     },
     "output_type": "execute_result"
    }
   ],
   "source": [
    "test.head(5)"
   ]
  },
  {
   "cell_type": "markdown",
   "metadata": {
    "id": "FF4GiQzUM-JS"
   },
   "source": [
    "## Scale Data"
   ]
  },
  {
   "cell_type": "markdown",
   "metadata": {
    "id": "5nB7Vg0cM-JS"
   },
   "source": [
    "**Use a MinMaxScaler to scale the train and test sets into scaled versions.**"
   ]
  },
  {
   "cell_type": "code",
   "execution_count": 82,
   "metadata": {
    "id": "ky0Gzsl2M-JT"
   },
   "outputs": [],
   "source": [
    "scaler = MinMaxScaler()"
   ]
  },
  {
   "cell_type": "code",
   "execution_count": 83,
   "metadata": {
    "colab": {
     "base_uri": "https://localhost:8080/"
    },
    "id": "hah6oEkfSsBE",
    "outputId": "85e4ec3c-c7df-4602-a2b2-e90d3acac8ed"
   },
   "outputs": [
    {
     "data": {
      "text/plain": [
       "MinMaxScaler(copy=True, feature_range=(0, 1))"
      ]
     },
     "execution_count": 83,
     "metadata": {
      "tags": []
     },
     "output_type": "execute_result"
    }
   ],
   "source": [
    "# IGNORE WARNING ITS JUST CONVERTING TO FLOATS\n",
    "# WE ONLY FIT TO TRAININ DATA, OTHERWISE WE ARE CHEATING ASSUMING INFO ABOUT TEST SET\n",
    "scaler.fit(train)"
   ]
  },
  {
   "cell_type": "code",
   "execution_count": 84,
   "metadata": {
    "id": "9xKU5cUZM-JT"
   },
   "outputs": [],
   "source": [
    "scaled_train = scaler.fit_transform(train)\n",
    "scaled_test = scaler.transform(test)"
   ]
  },
  {
   "cell_type": "markdown",
   "metadata": {
    "id": "i_gWioRnM-JU"
   },
   "source": [
    "# Time Series Generator\n",
    "\n",
    "**Create a TimeSeriesGenerator object based off the scaled_train data. The batch length is up to you, but at a minimum it should be at least 18 to capture a full year seasonality.**"
   ]
  },
  {
   "cell_type": "code",
   "execution_count": 85,
   "metadata": {
    "id": "b5NyqSY1M-JU"
   },
   "outputs": [],
   "source": [
    "length = 18 #one shorter to the length of test data\n",
    "batch_size = 1\n",
    "generator = TimeseriesGenerator(scaled_train, scaled_train, length = length, batch_size = batch_size)"
   ]
  },
  {
   "cell_type": "markdown",
   "metadata": {
    "id": "C6MP_q-GM-JX"
   },
   "source": [
    "**Create a generator for the scaled test/validation set. NOTE: Double check that your batch length makes sense for the size of the test set**"
   ]
  },
  {
   "cell_type": "code",
   "execution_count": 86,
   "metadata": {
    "id": "t9rJYUdAM-JV"
   },
   "outputs": [],
   "source": [
    "validation_generator = TimeseriesGenerator(scaled_test, scaled_test, length = length, batch_size = batch_size)"
   ]
  },
  {
   "cell_type": "markdown",
   "metadata": {
    "id": "7BpKcyh4M-JV"
   },
   "source": [
    "### Create the Model\n",
    "\n",
    "**Create a Keras Sequential Model with as many LSTM units you want and a final Dense Layer.**"
   ]
  },
  {
   "cell_type": "code",
   "execution_count": 87,
   "metadata": {
    "id": "J_IxeZcVT-XE"
   },
   "outputs": [],
   "source": [
    "n_features = 1"
   ]
  },
  {
   "cell_type": "code",
   "execution_count": 88,
   "metadata": {
    "colab": {
     "base_uri": "https://localhost:8080/"
    },
    "id": "Co41Jw5BM-JW",
    "outputId": "bae70f19-0ab8-4395-ce6a-f7b58241411c"
   },
   "outputs": [
    {
     "name": "stdout",
     "output_type": "stream",
     "text": [
      "Model: \"sequential_3\"\n",
      "_________________________________________________________________\n",
      "Layer (type)                 Output Shape              Param #   \n",
      "=================================================================\n",
      "lstm_2 (LSTM)                (None, 100)               40800     \n",
      "_________________________________________________________________\n",
      "dense_2 (Dense)              (None, 1)                 101       \n",
      "=================================================================\n",
      "Total params: 40,901\n",
      "Trainable params: 40,901\n",
      "Non-trainable params: 0\n",
      "_________________________________________________________________\n"
     ]
    }
   ],
   "source": [
    "# define model\n",
    "model = Sequential()\n",
    "\n",
    "# Simple RNN layer\n",
    "#model.add(SimpleRNN(50,input_shape=(length, n_features))) #50 neurons\n",
    "\n",
    "# LSTM \n",
    "model.add(LSTM(100, activation = 'relu', input_shape = (length, n_features)))\n",
    "\n",
    "# Final Prediction\n",
    "model.add(Dense(1))\n",
    "\n",
    "model.compile(optimizer = 'adam', loss = 'mse')\n",
    "\n",
    "# Model Summary\n",
    "model.summary()"
   ]
  },
  {
   "cell_type": "markdown",
   "metadata": {
    "id": "NqKFZ4EMM-JY"
   },
   "source": [
    "**Create an EarlyStopping callback based on val_loss.**"
   ]
  },
  {
   "cell_type": "code",
   "execution_count": 89,
   "metadata": {
    "id": "gIfoxtqLM-JZ"
   },
   "outputs": [],
   "source": [
    "early_stop = EarlyStopping(monitor = 'val_loss', patience = 3)"
   ]
  },
  {
   "cell_type": "markdown",
   "metadata": {
    "id": "rjXGb13dM-JZ"
   },
   "source": [
    "**Fit the model to the generator, let the EarlyStopping dictate the amount of epochs, so feel free to set the parameter high.**"
   ]
  },
  {
   "cell_type": "code",
   "execution_count": 90,
   "metadata": {
    "colab": {
     "base_uri": "https://localhost:8080/"
    },
    "id": "DKL8WhZkM-Jb",
    "outputId": "953d7064-6fcb-4dfb-dd3c-1694e6ceb547"
   },
   "outputs": [
    {
     "name": "stdout",
     "output_type": "stream",
     "text": [
      "Epoch 1/25\n"
     ]
    },
    {
     "name": "stderr",
     "output_type": "stream",
     "text": [
      "/usr/local/lib/python3.7/dist-packages/tensorflow/python/keras/engine/training.py:1940: UserWarning: `Model.fit_generator` is deprecated and will be removed in a future version. Please use `Model.fit`, which supports generators.\n",
      "  warnings.warn('`Model.fit_generator` is deprecated and '\n"
     ]
    },
    {
     "name": "stdout",
     "output_type": "stream",
     "text": [
      "531/531 [==============================] - 6s 9ms/step - loss: 0.0203 - val_loss: 0.0019\n",
      "Epoch 2/25\n",
      "531/531 [==============================] - 4s 8ms/step - loss: 0.0050 - val_loss: 0.0026\n",
      "Epoch 3/25\n",
      "531/531 [==============================] - 5s 9ms/step - loss: 0.0038 - val_loss: 0.0017\n",
      "Epoch 4/25\n",
      "531/531 [==============================] - 5s 9ms/step - loss: 0.0032 - val_loss: 0.0031\n",
      "Epoch 5/25\n",
      "531/531 [==============================] - 5s 9ms/step - loss: 0.0031 - val_loss: 0.0041\n",
      "Epoch 6/25\n",
      "531/531 [==============================] - 5s 9ms/step - loss: 0.0032 - val_loss: 0.0026\n"
     ]
    },
    {
     "data": {
      "text/plain": [
       "<tensorflow.python.keras.callbacks.History at 0x7f77f2570810>"
      ]
     },
     "execution_count": 90,
     "metadata": {
      "tags": []
     },
     "output_type": "execute_result"
    }
   ],
   "source": [
    "model.fit_generator(generator, \n",
    "                    epochs = 25, \n",
    "                    validation_data = validation_generator, \n",
    "                    callbacks = [early_stop])"
   ]
  },
  {
   "cell_type": "markdown",
   "metadata": {
    "id": "1QwwLFILM-Jc"
   },
   "source": [
    "**Plot the history of the loss that occured during training.**"
   ]
  },
  {
   "cell_type": "code",
   "execution_count": 91,
   "metadata": {
    "colab": {
     "base_uri": "https://localhost:8080/",
     "height": 265
    },
    "id": "IZwYxGvRM-Jd",
    "outputId": "ad8884d8-9692-4bfb-9323-26b25def72a5"
   },
   "outputs": [
    {
     "data": {
      "image/png": "[encoded data removed]",
      "text/plain": [
       "<Figure size 432x288 with 1 Axes>"
      ]
     },
     "metadata": {
      "needs_background": "light",
      "tags": []
     },
     "output_type": "display_data"
    }
   ],
   "source": [
    "losses = pd.DataFrame(model.history.history)\n",
    "losses.plot()\n",
    "plt.show()"
   ]
  },
  {
   "cell_type": "code",
   "execution_count": 92,
   "metadata": {
    "colab": {
     "base_uri": "https://localhost:8080/",
     "height": 235
    },
    "id": "PG3A3uglM-Jd",
    "outputId": "678507ad-01d4-43dd-a3fc-49e68f86bbb2"
   },
   "outputs": [
    {
     "data": {
      "text/html": [
       "<div>\n",
       "<style scoped>\n",
       "    .dataframe tbody tr th:only-of-type {\n",
       "        vertical-align: middle;\n",
       "    }\n",
       "\n",
       "    .dataframe tbody tr th {\n",
       "        vertical-align: top;\n",
       "    }\n",
       "\n",
       "    .dataframe thead th {\n",
       "        text-align: right;\n",
       "    }\n",
       "</style>\n",
       "<table border=\"1\" class=\"dataframe\">\n",
       "  <thead>\n",
       "    <tr style=\"text-align: right;\">\n",
       "      <th></th>\n",
       "      <th>loss</th>\n",
       "      <th>val_loss</th>\n",
       "    </tr>\n",
       "  </thead>\n",
       "  <tbody>\n",
       "    <tr>\n",
       "      <th>0</th>\n",
       "      <td>0.020347</td>\n",
       "      <td>0.001897</td>\n",
       "    </tr>\n",
       "    <tr>\n",
       "      <th>1</th>\n",
       "      <td>0.005039</td>\n",
       "      <td>0.002576</td>\n",
       "    </tr>\n",
       "    <tr>\n",
       "      <th>2</th>\n",
       "      <td>0.003819</td>\n",
       "      <td>0.001692</td>\n",
       "    </tr>\n",
       "    <tr>\n",
       "      <th>3</th>\n",
       "      <td>0.003185</td>\n",
       "      <td>0.003068</td>\n",
       "    </tr>\n",
       "    <tr>\n",
       "      <th>4</th>\n",
       "      <td>0.003124</td>\n",
       "      <td>0.004059</td>\n",
       "    </tr>\n",
       "    <tr>\n",
       "      <th>5</th>\n",
       "      <td>0.003238</td>\n",
       "      <td>0.002565</td>\n",
       "    </tr>\n",
       "  </tbody>\n",
       "</table>\n",
       "</div>"
      ],
      "text/plain": [
       "       loss  val_loss\n",
       "0  0.020347  0.001897\n",
       "1  0.005039  0.002576\n",
       "2  0.003819  0.001692\n",
       "3  0.003185  0.003068\n",
       "4  0.003124  0.004059\n",
       "5  0.003238  0.002565"
      ]
     },
     "execution_count": 92,
     "metadata": {
      "tags": []
     },
     "output_type": "execute_result"
    }
   ],
   "source": [
    "losses"
   ]
  },
  {
   "cell_type": "markdown",
   "metadata": {
    "id": "-ZYWu3vZM-Jd"
   },
   "source": [
    "## Evaluate on Test Data\n",
    "\n",
    "**Forecast predictions for your test data range (the last 12 months of the entire dataset). Remember to inverse your scaling transformations. Your final result should be a DataFrame with two columns, the true test values and the predictions.**"
   ]
  },
  {
   "cell_type": "code",
   "execution_count": 93,
   "metadata": {
    "id": "lQKBPvTnM-Je"
   },
   "outputs": [],
   "source": [
    "test_predictions = []\n",
    "\n",
    "first_eval_batch = scaled_train[-length:]\n",
    "current_batch = first_eval_batch.reshape((1, length, n_features))\n",
    "\n",
    "for i in range(len(test)):\n",
    "    \n",
    "    # get prediction 1 time stamp ahead ([0] is for grabbing just the number instead of [array])\n",
    "    current_pred = model.predict(current_batch)[0]\n",
    "    \n",
    "    # store prediction\n",
    "    test_predictions.append(current_pred) \n",
    "    \n",
    "    # update batch to now include prediction and drop first value\n",
    "    current_batch = np.append(current_batch[:,1:,:], [[current_pred]], axis = 1)"
   ]
  },
  {
   "cell_type": "code",
   "execution_count": 94,
   "metadata": {
    "id": "_8ld0l5RM-Je"
   },
   "outputs": [],
   "source": [
    "true_predictions = scaler.inverse_transform(test_predictions)"
   ]
  },
  {
   "cell_type": "code",
   "execution_count": 95,
   "metadata": {
    "colab": {
     "base_uri": "https://localhost:8080/"
    },
    "id": "IER3QhTmM-Je",
    "outputId": "d396d547-2e47-456e-8a3b-1a4466a37483"
   },
   "outputs": [
    {
     "name": "stderr",
     "output_type": "stream",
     "text": [
      "/usr/local/lib/python3.7/dist-packages/ipykernel_launcher.py:1: SettingWithCopyWarning: \n",
      "A value is trying to be set on a copy of a slice from a DataFrame.\n",
      "Try using .loc[row_indexer,col_indexer] = value instead\n",
      "\n",
      "See the caveats in the documentation: https://pandas.pydata.org/pandas-docs/stable/user_guide/indexing.html#returning-a-view-versus-a-copy\n",
      "  \"\"\"Entry point for launching an IPython kernel.\n"
     ]
    }
   ],
   "source": [
    "test['Predictions'] = true_predictions"
   ]
  },
  {
   "cell_type": "code",
   "execution_count": 97,
   "metadata": {
    "colab": {
     "base_uri": "https://localhost:8080/",
     "height": 235
    },
    "id": "1G3MXKQgM-Je",
    "outputId": "a68edf3a-9153-4097-9437-3d1415e4b446"
   },
   "outputs": [
    {
     "data": {
      "text/html": [
       "<div>\n",
       "<style scoped>\n",
       "    .dataframe tbody tr th:only-of-type {\n",
       "        vertical-align: middle;\n",
       "    }\n",
       "\n",
       "    .dataframe tbody tr th {\n",
       "        vertical-align: top;\n",
       "    }\n",
       "\n",
       "    .dataframe thead th {\n",
       "        text-align: right;\n",
       "    }\n",
       "</style>\n",
       "<table border=\"1\" class=\"dataframe\">\n",
       "  <thead>\n",
       "    <tr style=\"text-align: right;\">\n",
       "      <th></th>\n",
       "      <th>Production</th>\n",
       "      <th>Predictions</th>\n",
       "    </tr>\n",
       "    <tr>\n",
       "      <th>DATE</th>\n",
       "      <th></th>\n",
       "      <th></th>\n",
       "    </tr>\n",
       "  </thead>\n",
       "  <tbody>\n",
       "    <tr>\n",
       "      <th>2017-10-01</th>\n",
       "      <td>90.4732</td>\n",
       "      <td>87.224988</td>\n",
       "    </tr>\n",
       "    <tr>\n",
       "      <th>2017-11-01</th>\n",
       "      <td>77.4378</td>\n",
       "      <td>77.487108</td>\n",
       "    </tr>\n",
       "    <tr>\n",
       "      <th>2017-12-01</th>\n",
       "      <td>75.8118</td>\n",
       "      <td>76.383974</td>\n",
       "    </tr>\n",
       "    <tr>\n",
       "      <th>2018-01-01</th>\n",
       "      <td>83.4343</td>\n",
       "      <td>88.083978</td>\n",
       "    </tr>\n",
       "    <tr>\n",
       "      <th>2018-02-01</th>\n",
       "      <td>99.4899</td>\n",
       "      <td>100.398358</td>\n",
       "    </tr>\n",
       "  </tbody>\n",
       "</table>\n",
       "</div>"
      ],
      "text/plain": [
       "            Production  Predictions\n",
       "DATE                               \n",
       "2017-10-01     90.4732    87.224988\n",
       "2017-11-01     77.4378    77.487108\n",
       "2017-12-01     75.8118    76.383974\n",
       "2018-01-01     83.4343    88.083978\n",
       "2018-02-01     99.4899   100.398358"
      ]
     },
     "execution_count": 97,
     "metadata": {
      "tags": []
     },
     "output_type": "execute_result"
    }
   ],
   "source": [
    "test.head()"
   ]
  },
  {
   "cell_type": "markdown",
   "metadata": {
    "id": "viaFPZycM-Jf"
   },
   "source": [
    "**Plot your predictions versus the True test values. (Your plot may look different than ours).**"
   ]
  },
  {
   "cell_type": "code",
   "execution_count": 101,
   "metadata": {
    "colab": {
     "base_uri": "https://localhost:8080/",
     "height": 291
    },
    "id": "PuhmtaRGM-Jf",
    "outputId": "8f0c9215-dd0f-407a-fc15-f19b921cfe02"
   },
   "outputs": [
    {
     "data": {
      "image/png": "[encoded data removed]",
      "text/plain": [
       "<Figure size 720x288 with 1 Axes>"
      ]
     },
     "metadata": {
      "needs_background": "light",
      "tags": []
     },
     "output_type": "display_data"
    }
   ],
   "source": [
    "test.plot(figsize = (10, 4))\n",
    "plt.show()"
   ]
  },
  {
   "cell_type": "markdown",
   "metadata": {
    "id": "LDn8xPbgM-Jg"
   },
   "source": [
    "**Calculate your RMSE.**"
   ]
  },
  {
   "cell_type": "code",
   "execution_count": 103,
   "metadata": {
    "colab": {
     "base_uri": "https://localhost:8080/"
    },
    "id": "7qiGYo_vM-Jh",
    "outputId": "49130453-4f2c-4cc6-a846-f763414ba8e6"
   },
   "outputs": [
    {
     "data": {
      "text/plain": [
       "6.058463630589887"
      ]
     },
     "execution_count": 103,
     "metadata": {
      "tags": []
     },
     "output_type": "execute_result"
    }
   ],
   "source": [
    "np.sqrt(mean_squared_error(test['Production'],test['Predictions']))"
   ]
  },
  {
   "cell_type": "markdown",
   "metadata": {
    "id": "gYNd_TqJXatp"
   },
   "source": [
    "**Retrain & Forecasting**"
   ]
  },
  {
   "cell_type": "code",
   "execution_count": 104,
   "metadata": {
    "id": "KLY98SHEXZkm"
   },
   "outputs": [],
   "source": [
    "full_scaler = MinMaxScaler()\n",
    "scaled_full_data = full_scaler.fit_transform(df)"
   ]
  },
  {
   "cell_type": "code",
   "execution_count": 105,
   "metadata": {
    "id": "WcKz60zzXja7"
   },
   "outputs": [],
   "source": [
    "length = 12 # Length of the output sequences (in number of timesteps)\n",
    "generator = TimeseriesGenerator(scaled_full_data, scaled_full_data, length = length, batch_size = 1)"
   ]
  },
  {
   "cell_type": "code",
   "execution_count": 106,
   "metadata": {
    "colab": {
     "base_uri": "https://localhost:8080/"
    },
    "id": "1ztQONUnXnLX",
    "outputId": "218d77c1-ba92-4713-b272-08e61558c80a"
   },
   "outputs": [
    {
     "name": "stderr",
     "output_type": "stream",
     "text": [
      "/usr/local/lib/python3.7/dist-packages/tensorflow/python/keras/engine/training.py:1940: UserWarning: `Model.fit_generator` is deprecated and will be removed in a future version. Please use `Model.fit`, which supports generators.\n",
      "  warnings.warn('`Model.fit_generator` is deprecated and '\n"
     ]
    },
    {
     "name": "stdout",
     "output_type": "stream",
     "text": [
      "Epoch 1/8\n",
      "561/561 [==============================] - 5s 6ms/step - loss: 0.0268\n",
      "Epoch 2/8\n",
      "561/561 [==============================] - 4s 6ms/step - loss: 0.0124\n",
      "Epoch 3/8\n",
      "561/561 [==============================] - 4s 6ms/step - loss: 0.0071\n",
      "Epoch 4/8\n",
      "561/561 [==============================] - 4s 7ms/step - loss: 0.0069\n",
      "Epoch 5/8\n",
      "561/561 [==============================] - 4s 7ms/step - loss: 0.0054\n",
      "Epoch 6/8\n",
      "561/561 [==============================] - 4s 6ms/step - loss: 0.0042\n",
      "Epoch 7/8\n",
      "561/561 [==============================] - 4s 6ms/step - loss: 0.0038\n",
      "Epoch 8/8\n",
      "561/561 [==============================] - 4s 7ms/step - loss: 0.0038\n"
     ]
    },
    {
     "data": {
      "text/plain": [
       "<tensorflow.python.keras.callbacks.History at 0x7f77ecd6ab10>"
      ]
     },
     "execution_count": 106,
     "metadata": {
      "tags": []
     },
     "output_type": "execute_result"
    }
   ],
   "source": [
    "model = Sequential()\n",
    "model.add(LSTM(100, activation = 'relu', input_shape = (length, n_features)))\n",
    "model.add(Dense(1))\n",
    "model.compile(optimizer = 'adam', loss = 'mse')\n",
    "\n",
    "\n",
    "# fit model\n",
    "model.fit_generator(generator, epochs = 8)"
   ]
  },
  {
   "cell_type": "code",
   "execution_count": 107,
   "metadata": {
    "id": "p4bT9YBaX49u"
   },
   "outputs": [],
   "source": [
    "forecast = []\n",
    "# Replace periods with whatever forecast length you want\n",
    "periods = 12\n",
    "\n",
    "first_eval_batch = scaled_full_data[-length:]\n",
    "current_batch = first_eval_batch.reshape((1, length, n_features))\n",
    "\n",
    "for i in range(periods):\n",
    "    \n",
    "    # get prediction 1 time stamp ahead ([0] is for grabbing just the number instead of [array])\n",
    "    current_pred = model.predict(current_batch)[0]\n",
    "    \n",
    "    # store prediction\n",
    "    forecast.append(current_pred) \n",
    "    \n",
    "    # update batch to now include prediction and drop first value\n",
    "    current_batch = np.append(current_batch[:,1:,:], [[current_pred]], axis = 1)"
   ]
  },
  {
   "cell_type": "code",
   "execution_count": 108,
   "metadata": {
    "id": "a7tGo05uYDdY"
   },
   "outputs": [],
   "source": [
    "forecast = scaler.inverse_transform(forecast)"
   ]
  },
  {
   "cell_type": "markdown",
   "metadata": {
    "id": "YleD5vFmYJqj"
   },
   "source": [
    "**Creating new timestamp index with pandas**"
   ]
  },
  {
   "cell_type": "code",
   "execution_count": 109,
   "metadata": {
    "colab": {
     "base_uri": "https://localhost:8080/",
     "height": 450
    },
    "id": "sF_9llQdYF_V",
    "outputId": "b0cf71a3-ce64-46a6-cc01-3e09f7394121"
   },
   "outputs": [
    {
     "data": {
      "text/html": [
       "<div>\n",
       "<style scoped>\n",
       "    .dataframe tbody tr th:only-of-type {\n",
       "        vertical-align: middle;\n",
       "    }\n",
       "\n",
       "    .dataframe tbody tr th {\n",
       "        vertical-align: top;\n",
       "    }\n",
       "\n",
       "    .dataframe thead th {\n",
       "        text-align: right;\n",
       "    }\n",
       "</style>\n",
       "<table border=\"1\" class=\"dataframe\">\n",
       "  <thead>\n",
       "    <tr style=\"text-align: right;\">\n",
       "      <th></th>\n",
       "      <th>Production</th>\n",
       "    </tr>\n",
       "    <tr>\n",
       "      <th>DATE</th>\n",
       "      <th></th>\n",
       "    </tr>\n",
       "  </thead>\n",
       "  <tbody>\n",
       "    <tr>\n",
       "      <th>1972-01-01</th>\n",
       "      <td>59.9622</td>\n",
       "    </tr>\n",
       "    <tr>\n",
       "      <th>1972-02-01</th>\n",
       "      <td>67.0605</td>\n",
       "    </tr>\n",
       "    <tr>\n",
       "      <th>1972-03-01</th>\n",
       "      <td>74.2350</td>\n",
       "    </tr>\n",
       "    <tr>\n",
       "      <th>1972-04-01</th>\n",
       "      <td>78.1120</td>\n",
       "    </tr>\n",
       "    <tr>\n",
       "      <th>1972-05-01</th>\n",
       "      <td>84.7636</td>\n",
       "    </tr>\n",
       "    <tr>\n",
       "      <th>...</th>\n",
       "      <td>...</td>\n",
       "    </tr>\n",
       "    <tr>\n",
       "      <th>2019-05-01</th>\n",
       "      <td>114.5613</td>\n",
       "    </tr>\n",
       "    <tr>\n",
       "      <th>2019-06-01</th>\n",
       "      <td>124.9605</td>\n",
       "    </tr>\n",
       "    <tr>\n",
       "      <th>2019-07-01</th>\n",
       "      <td>110.2632</td>\n",
       "    </tr>\n",
       "    <tr>\n",
       "      <th>2019-08-01</th>\n",
       "      <td>102.6085</td>\n",
       "    </tr>\n",
       "    <tr>\n",
       "      <th>2019-09-01</th>\n",
       "      <td>101.5866</td>\n",
       "    </tr>\n",
       "  </tbody>\n",
       "</table>\n",
       "<p>573 rows × 1 columns</p>\n",
       "</div>"
      ],
      "text/plain": [
       "            Production\n",
       "DATE                  \n",
       "1972-01-01     59.9622\n",
       "1972-02-01     67.0605\n",
       "1972-03-01     74.2350\n",
       "1972-04-01     78.1120\n",
       "1972-05-01     84.7636\n",
       "...                ...\n",
       "2019-05-01    114.5613\n",
       "2019-06-01    124.9605\n",
       "2019-07-01    110.2632\n",
       "2019-08-01    102.6085\n",
       "2019-09-01    101.5866\n",
       "\n",
       "[573 rows x 1 columns]"
      ]
     },
     "execution_count": 109,
     "metadata": {
      "tags": []
     },
     "output_type": "execute_result"
    }
   ],
   "source": [
    "df"
   ]
  },
  {
   "cell_type": "code",
   "execution_count": 110,
   "metadata": {
    "id": "uvHvKbGSYOEL"
   },
   "outputs": [],
   "source": [
    "forecast_index = pd.date_range(start = '2019-10-01', periods = periods, freq = 'MS') #freq = 'MS' --> pandas frequency stings\n",
    "# https://stackoverflow.com/questions/35339139/what-values-are-valid-in-pandas-freq-tags"
   ]
  },
  {
   "cell_type": "code",
   "execution_count": 111,
   "metadata": {
    "colab": {
     "base_uri": "https://localhost:8080/"
    },
    "id": "Z30jK5oYYmkR",
    "outputId": "faed90c5-4619-4c62-a834-aa9a9b22a76a"
   },
   "outputs": [
    {
     "data": {
      "text/plain": [
       "DatetimeIndex(['2019-10-01', '2019-11-01', '2019-12-01', '2020-01-01',\n",
       "               '2020-02-01', '2020-03-01', '2020-04-01', '2020-05-01',\n",
       "               '2020-06-01', '2020-07-01', '2020-08-01', '2020-09-01'],\n",
       "              dtype='datetime64[ns]', freq='MS')"
      ]
     },
     "execution_count": 111,
     "metadata": {
      "tags": []
     },
     "output_type": "execute_result"
    }
   ],
   "source": [
    "forecast_index"
   ]
  },
  {
   "cell_type": "code",
   "execution_count": 112,
   "metadata": {
    "id": "SByUFsfOYpy6"
   },
   "outputs": [],
   "source": [
    "forecast_df = pd.DataFrame(data = forecast,\n",
    "                           index = forecast_index,\n",
    "                           columns = ['Forecast'])"
   ]
  },
  {
   "cell_type": "code",
   "execution_count": 113,
   "metadata": {
    "colab": {
     "base_uri": "https://localhost:8080/",
     "height": 421
    },
    "id": "zzTe9BUkYvA2",
    "outputId": "21850f70-92a8-4294-93fc-0d4c74a3b333"
   },
   "outputs": [
    {
     "data": {
      "text/html": [
       "<div>\n",
       "<style scoped>\n",
       "    .dataframe tbody tr th:only-of-type {\n",
       "        vertical-align: middle;\n",
       "    }\n",
       "\n",
       "    .dataframe tbody tr th {\n",
       "        vertical-align: top;\n",
       "    }\n",
       "\n",
       "    .dataframe thead th {\n",
       "        text-align: right;\n",
       "    }\n",
       "</style>\n",
       "<table border=\"1\" class=\"dataframe\">\n",
       "  <thead>\n",
       "    <tr style=\"text-align: right;\">\n",
       "      <th></th>\n",
       "      <th>Forecast</th>\n",
       "    </tr>\n",
       "  </thead>\n",
       "  <tbody>\n",
       "    <tr>\n",
       "      <th>2019-10-01</th>\n",
       "      <td>87.611460</td>\n",
       "    </tr>\n",
       "    <tr>\n",
       "      <th>2019-11-01</th>\n",
       "      <td>80.283605</td>\n",
       "    </tr>\n",
       "    <tr>\n",
       "      <th>2019-12-01</th>\n",
       "      <td>77.747384</td>\n",
       "    </tr>\n",
       "    <tr>\n",
       "      <th>2020-01-01</th>\n",
       "      <td>83.044812</td>\n",
       "    </tr>\n",
       "    <tr>\n",
       "      <th>2020-02-01</th>\n",
       "      <td>93.481519</td>\n",
       "    </tr>\n",
       "    <tr>\n",
       "      <th>2020-03-01</th>\n",
       "      <td>103.816568</td>\n",
       "    </tr>\n",
       "    <tr>\n",
       "      <th>2020-04-01</th>\n",
       "      <td>109.916989</td>\n",
       "    </tr>\n",
       "    <tr>\n",
       "      <th>2020-05-01</th>\n",
       "      <td>115.663028</td>\n",
       "    </tr>\n",
       "    <tr>\n",
       "      <th>2020-06-01</th>\n",
       "      <td>117.152404</td>\n",
       "    </tr>\n",
       "    <tr>\n",
       "      <th>2020-07-01</th>\n",
       "      <td>110.565104</td>\n",
       "    </tr>\n",
       "    <tr>\n",
       "      <th>2020-08-01</th>\n",
       "      <td>103.991661</td>\n",
       "    </tr>\n",
       "    <tr>\n",
       "      <th>2020-09-01</th>\n",
       "      <td>95.441172</td>\n",
       "    </tr>\n",
       "  </tbody>\n",
       "</table>\n",
       "</div>"
      ],
      "text/plain": [
       "              Forecast\n",
       "2019-10-01   87.611460\n",
       "2019-11-01   80.283605\n",
       "2019-12-01   77.747384\n",
       "2020-01-01   83.044812\n",
       "2020-02-01   93.481519\n",
       "2020-03-01  103.816568\n",
       "2020-04-01  109.916989\n",
       "2020-05-01  115.663028\n",
       "2020-06-01  117.152404\n",
       "2020-07-01  110.565104\n",
       "2020-08-01  103.991661\n",
       "2020-09-01   95.441172"
      ]
     },
     "execution_count": 113,
     "metadata": {
      "tags": []
     },
     "output_type": "execute_result"
    }
   ],
   "source": [
    "forecast_df"
   ]
  },
  {
   "cell_type": "code",
   "execution_count": 141,
   "metadata": {
    "colab": {
     "base_uri": "https://localhost:8080/",
     "height": 458
    },
    "id": "e0lJl7rbY62R",
    "outputId": "0247a350-d98e-4c15-e6fa-12605f5d7ced"
   },
   "outputs": [
    {
     "data": {
      "image/png": "[encoded data removed]",
      "text/plain": [
       "<Figure size 1080x504 with 2 Axes>"
      ]
     },
     "metadata": {
      "needs_background": "light",
      "tags": []
     },
     "output_type": "display_data"
    }
   ],
   "source": [
    "fig, axes = plt.subplots(nrows = 1, ncols = 2, figsize = (15, 7))\n",
    "\n",
    "axes[0].plot(df, 'b')\n",
    "\n",
    "axes[1].plot(forecast_df, 'r')\n",
    "\n",
    "#labels\n",
    "axes[0].set_xlabel('Date')\n",
    "axes[0].set_title('Production')\n",
    "\n",
    "axes[1].set_xlabel('Date')\n",
    "axes[1].set_title('Forecast')\n",
    "\n",
    "plt.show()"
   ]
  },
  {
   "cell_type": "markdown",
   "metadata": {
    "id": "IeVOlQrVdC1O"
   },
   "source": [
    "**Joining Pandas Plot**"
   ]
  },
  {
   "cell_type": "code",
   "execution_count": 146,
   "metadata": {
    "colab": {
     "base_uri": "https://localhost:8080/",
     "height": 497
    },
    "id": "Fh_Mp_HRZ7_G",
    "outputId": "19393258-d075-475f-ddaa-335f89dc1def"
   },
   "outputs": [
    {
     "data": {
      "image/png": "[encoded data removed]",
      "text/plain": [
       "<Figure size 1080x576 with 1 Axes>"
      ]
     },
     "metadata": {
      "needs_background": "light",
      "tags": []
     },
     "output_type": "display_data"
    }
   ],
   "source": [
    "ax = df.plot()\n",
    "forecast_df.plot(figsize = (15, 8), ax = ax)\n",
    "plt.show()"
   ]
  },
  {
   "cell_type": "code",
   "execution_count": 152,
   "metadata": {
    "colab": {
     "base_uri": "https://localhost:8080/",
     "height": 400
    },
    "id": "ZnyCKv4IdGEN",
    "outputId": "13d00fa4-e6fb-478c-88ff-0d08d6ee3cb2"
   },
   "outputs": [
    {
     "data": {
      "image/png": "[encoded data removed]",
      "text/plain": [
       "<Figure size 720x432 with 1 Axes>"
      ]
     },
     "metadata": {
      "needs_background": "light",
      "tags": []
     },
     "output_type": "display_data"
    }
   ],
   "source": [
    "ax = df.plot()\n",
    "forecast_df.plot(figsize = (10, 6), ax = ax)\n",
    "plt.xlim('2018-01-01','2020-12-01\t')\n",
    "plt.show()"
   ]
  },
  {
   "cell_type": "code",
   "execution_count": null,
   "metadata": {
    "id": "OVIZQ6RLdjYj"
   },
   "outputs": [],
   "source": []
  }
 ],
 "metadata": {
  "colab": {
   "name": "RNN_Frozen_Dessert_Production.ipynb",
   "provenance": []
  },
  "kernelspec": {
   "display_name": "Python 3",
   "language": "python",
   "name": "python3"
  },
  "language_info": {
   "codemirror_mode": {
    "name": "ipython",
    "version": 3
   },
   "file_extension": ".py",
   "mimetype": "text/x-python",
   "name": "python",
   "nbconvert_exporter": "python",
   "pygments_lexer": "ipython3",
   "version": "3.8.0"
  }
 },
 "nbformat": 4,
 "nbformat_minor": 4
}
